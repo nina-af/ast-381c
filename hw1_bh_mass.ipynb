{
 "cells": [
  {
   "cell_type": "code",
   "execution_count": 1,
   "metadata": {},
   "outputs": [],
   "source": [
    "import numpy as np"
   ]
  },
  {
   "cell_type": "code",
   "execution_count": 16,
   "metadata": {},
   "outputs": [],
   "source": [
    "# In units of [w] = '', [R] = pc -> [a] = AU; [T] = yr, [M] = Msun. \n",
    "def bh_mass(w, R, T):\n",
    "    return abs(w * R)**3 / T**2\n",
    "\n",
    "# Error calculation; dx = standard deviation.\n",
    "def error(w, R, T, dw, dR, dT):\n",
    "    M = bh_mass(w, R, T)\n",
    "    t1 = ((3.0 / w) * dw)**2\n",
    "    t2 = ((3.0 / R) * dR)**2\n",
    "    t3 = ((2.0 / T) * dT)**2\n",
    "    dM = np.sqrt(t1 + t2 + t3) * M\n",
    "    return dM\n",
    "\n",
    "def error_2(w, R, T, dw, dT):\n",
    "    M = bh_mass(w, R, T)\n",
    "    t1 = ((3.0 / w) * dw)**2\n",
    "    t2 = ((2.0 / T) * dT)**2\n",
    "    dM = np.sqrt(t1 + t2) * M\n",
    "    return dM"
   ]
  },
  {
   "cell_type": "code",
   "execution_count": 18,
   "metadata": {},
   "outputs": [],
   "source": [
    "# Used S1, S2, S8, S12, S13, S14\n",
    "# Exclude S4, S17, S19, S24, S31 \n",
    "\n",
    "n_vals = ['S1', 'S2', 'S4', 'S5', 'S6', 'S8', 'S9', 'S12', 'S13', 'S14', 'S17', 'S18', 'S19',\n",
    "          'S21', 'S24', 'S27', 'S29', 'S31', 'S33', 'S38', 'S66', 'S67', 'S71', 'S83', 'S87',\n",
    "          'S96', 'S97']\n",
    "\n",
    "a_vals = [0.508, 0.123, 0.298, 0.250, 0.436, 0.411, 0.293, 0.308, 0.297, 0.256, 0.311, 0.265, 0.798,\n",
    "          0.213, 1.060, 0.454, 0.397, 0.298, 0.410, 0.139, 1.210, 1.095, 1.061, 2.785, 1.260, 1.545, \n",
    "          2.186]\n",
    "\n",
    "a_errs = [0.028, 0.001, 0.019, 0.042, 0.153, 0.004, 0.052, 0.008, 0.012, 0.010, 0.004, 0.080, 0.064,\n",
    "          0.041, 0.178, 0.078, 0.335, 0.044, 0.088, 0.041, 0.126, 0.102, 0.765, 0.234, 0.161, 0.209, \n",
    "          0.844]\n",
    "\n",
    "t_vals = [132.0, 15.8, 59.5, 45.7, 105.0, 96.1, 58.0, 62.5, 59.2, 47.3, 63.2, 50.0, 260.0, 35.8, 398.0,\n",
    "          112.0, 91.0, 59.4, 96.0, 18.9, 486.0, 419.0, 399.0, 1700.0, 516.0, 701.0, 1180.0]\n",
    "\n",
    "t_errs = [11.0, 0.11, 2.6, 6.9, 34.0, 1.6, 9.5, 2.3, 3.8, 2.9, 2.0, 16.0, 31.0, 6.9, 73.0, 18.0, 79.0,\n",
    "          9.2, 21.0, 5.8, 41.0, 19.0, 283.0, 205.0, 44.0, 81.0, 688.0]\n",
    "\n",
    "r0          = 8330.0 # pc\n",
    "r0_err_stat = 170.0\n",
    "r0_err_sys  = 310.0"
   ]
  },
  {
   "cell_type": "code",
   "execution_count": 19,
   "metadata": {},
   "outputs": [
    {
     "name": "stdout",
     "output_type": "stream",
     "text": [
      "M = 4.349e+06 +/- 1.055e+06 Msun\n",
      "M = 4.309e+06 +/- 2.902e+05 Msun\n",
      "M = 4.321e+06 +/- 9.463e+05 Msun\n",
      "M = 4.324e+06 +/- 2.554e+06 Msun\n",
      "M = 4.345e+06 +/- 5.377e+06 Msun\n",
      "M = 4.345e+06 +/- 3.283e+05 Msun\n",
      "M = 4.322e+06 +/- 2.715e+06 Msun\n",
      "M = 4.323e+06 +/- 5.337e+05 Msun\n",
      "M = 4.321e+06 +/- 8.074e+05 Msun\n",
      "M = 4.334e+06 +/- 7.816e+05 Msun\n",
      "M = 4.353e+06 +/- 4.185e+05 Msun\n",
      "M = 4.303e+06 +/- 4.779e+06 Msun\n",
      "M = 4.345e+06 +/- 1.496e+06 Msun\n",
      "M = 4.358e+06 +/- 3.038e+06 Msun\n",
      "M = 4.346e+06 +/- 2.721e+06 Msun\n",
      "M = 4.312e+06 +/- 2.632e+06 Msun\n",
      "M = 4.367e+06 +/- 1.341e+07 Msun\n",
      "M = 4.335e+06 +/- 2.358e+06 Msun\n",
      "M = 4.323e+06 +/- 3.375e+06 Msun\n",
      "M = 4.346e+06 +/- 4.687e+06 Msun\n",
      "M = 4.335e+06 +/- 1.562e+06 Msun\n",
      "M = 4.323e+06 +/- 1.297e+06 Msun\n",
      "M = 4.336e+06 +/- 1.122e+07 Msun\n",
      "M = 4.32e+06 +/- 1.53e+06 Msun\n",
      "M = 4.343e+06 +/- 1.841e+06 Msun\n",
      "M = 4.338e+06 +/- 2.043e+06 Msun\n",
      "M = 4.336e+06 +/- 7.132e+06 Msun\n"
     ]
    }
   ],
   "source": [
    "r0          = 8330.0 # pc\n",
    "\n",
    "N = len(n_vals)\n",
    "\n",
    "M_vals = np.zeros(N)\n",
    "M_errs = np.zeros(N)\n",
    "\n",
    "for i in range(N):\n",
    "    M_vals[i] = bh_mass(a_vals[i], r0, t_vals[i])\n",
    "    M_errs[i] = error(a_vals[i], r0, t_vals[i], a_errs[i], r0_err_stat, t_errs[i])\n",
    "    print('M = {0:.4g} +/- {1:.4g} Msun'.format(M_vals[i], M_errs[i]))"
   ]
  },
  {
   "cell_type": "code",
   "execution_count": 20,
   "metadata": {},
   "outputs": [
    {
     "name": "stdout",
     "output_type": "stream",
     "text": [
      "M = 4.349e+06 +/- 1.021e+06 Msun\n",
      "M = 4.309e+06 +/- 1.21e+05 Msun\n",
      "M = 4.321e+06 +/- 9.086e+05 Msun\n",
      "M = 4.324e+06 +/- 2.541e+06 Msun\n",
      "M = 4.345e+06 +/- 5.371e+06 Msun\n",
      "M = 4.345e+06 +/- 1.924e+05 Msun\n",
      "M = 4.322e+06 +/- 2.702e+06 Msun\n",
      "M = 4.323e+06 +/- 4.634e+05 Msun\n",
      "M = 4.321e+06 +/- 7.629e+05 Msun\n",
      "M = 4.334e+06 +/- 7.352e+05 Msun\n",
      "M = 4.353e+06 +/- 3.227e+05 Msun\n",
      "M = 4.303e+06 +/- 4.771e+06 Msun\n",
      "M = 4.345e+06 +/- 1.472e+06 Msun\n",
      "M = 4.358e+06 +/- 3.026e+06 Msun\n",
      "M = 4.346e+06 +/- 2.708e+06 Msun\n",
      "M = 4.312e+06 +/- 2.619e+06 Msun\n",
      "M = 4.367e+06 +/- 1.341e+07 Msun\n",
      "M = 4.335e+06 +/- 2.343e+06 Msun\n",
      "M = 4.323e+06 +/- 3.365e+06 Msun\n",
      "M = 4.346e+06 +/- 4.68e+06 Msun\n",
      "M = 4.335e+06 +/- 1.539e+06 Msun\n",
      "M = 4.323e+06 +/- 1.27e+06 Msun\n",
      "M = 4.336e+06 +/- 1.122e+07 Msun\n",
      "M = 4.32e+06 +/- 1.507e+06 Msun\n",
      "M = 4.343e+06 +/- 1.822e+06 Msun\n",
      "M = 4.338e+06 +/- 2.026e+06 Msun\n",
      "M = 4.336e+06 +/- 7.127e+06 Msun\n"
     ]
    }
   ],
   "source": [
    "r0          = 8330.0 # pc\n",
    "\n",
    "N = len(n_vals)\n",
    "\n",
    "M_vals = np.zeros(N)\n",
    "M_errs = np.zeros(N)\n",
    "\n",
    "for i in range(N):\n",
    "    M_vals[i] = bh_mass(a_vals[i], r0, t_vals[i])\n",
    "    M_errs[i] = error_2(a_vals[i], r0, t_vals[i], a_errs[i], t_errs[i])\n",
    "    print('M = {0:.4g} +/- {1:.4g} Msun'.format(M_vals[i], M_errs[i]))"
   ]
  },
  {
   "cell_type": "code",
   "execution_count": null,
   "metadata": {},
   "outputs": [],
   "source": []
  }
 ],
 "metadata": {
  "kernelspec": {
   "display_name": "Python 3",
   "language": "python",
   "name": "python3"
  },
  "language_info": {
   "codemirror_mode": {
    "name": "ipython",
    "version": 3
   },
   "file_extension": ".py",
   "mimetype": "text/x-python",
   "name": "python",
   "nbconvert_exporter": "python",
   "pygments_lexer": "ipython3",
   "version": "3.6.13"
  }
 },
 "nbformat": 4,
 "nbformat_minor": 2
}
