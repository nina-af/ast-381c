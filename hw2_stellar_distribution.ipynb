{
 "cells": [
  {
   "cell_type": "code",
   "execution_count": 1,
   "metadata": {},
   "outputs": [],
   "source": [
    "import numpy as np\n",
    "import matplotlib as mpl\n",
    "import matplotlib.pyplot as plt\n",
    "\n",
    "from scipy.interpolate import interp1d, splrep, splev\n",
    "from scipy.integrate import simps"
   ]
  },
  {
   "cell_type": "code",
   "execution_count": 2,
   "metadata": {},
   "outputs": [],
   "source": [
    "# Data (R in arcsec, N in N stars per square arcsec)\n",
    "\n",
    "R_log10 = np.asarray([-0.301, 0.230, 0.415, 0.602, 0.756, 0.863, 0.954, 1.041, 1.079, 1.204,\n",
    "                       1.255, 1.322, 1.431, 1.602, 1.778, 2.000, 2.301, 2.602, 3.000])\n",
    "\n",
    "N_old_log10 = np.asarray([1.978, 2.000, 2.176, 2.079, 1.944, 1.964, 1.929, 1.857, 1.875, 1.813,\n",
    "                          1.778, 1.740, 1.716, 1.591, 1.447, 1.322, 1.000, 0.845, 0.663])\n",
    "\n",
    "N_all_log10 = np.asarray([2.484, 2.312, 2.342, 2.279, 2.114, 2.097, 2.021, 1.964, 1.919, 1.845, \n",
    "                          1.778, 1.740, 1.716, 1.591, 1.447, 1.332, 1.000, 0.845, 0.663])\n",
    "\n",
    "err_log10 = np.asarray([0.180, 0.100, 0.080, 0.080, 0.080, 0.080, 0.080, 0.080, 0.080, 0.080, \n",
    "                        0.080, 0.080, 0.030, 0.030, 0.030, 0.030, 0.030, 0.030, 0.030, ])"
   ]
  },
  {
   "cell_type": "markdown",
   "metadata": {},
   "source": [
    "$$\n",
    "\\nu (r) = -\\frac{1}{\\pi} \\int_0^{\\infty} \\frac{d\\Sigma}{dR} \\frac{dR}{\\sqrt{R^2 - r^2}}\n",
    "$$\n",
    "$$\n",
    "\\nu(r) v^2(r) = -\\frac{1}{\\pi} \\int_0^{\\infty} \\frac{d(\\Sigma \\sigma^2)}{dR}\n",
    "\\frac{dR}{\\sqrt{R^2 - r^2}}\n",
    "$$"
   ]
  },
  {
   "cell_type": "code",
   "execution_count": 3,
   "metadata": {},
   "outputs": [
    {
     "data": {
      "image/png": "[encoded data removed]",
      "text/plain": [
       "<Figure size 432x288 with 1 Axes>"
      ]
     },
     "metadata": {
      "needs_background": "light"
     },
     "output_type": "display_data"
    }
   ],
   "source": [
    "plt.errorbar(R_log10, N_old_log10, yerr=err_log10)\n",
    "plt.errorbar(R_log10, N_all_log10, yerr=err_log10)\n",
    "plt.xlabel('R (pc)')\n",
    "plt.ylabel(r'$\\Sigma \\; (N_{stars} / pc^2)$')\n",
    "plt.show()"
   ]
  },
  {
   "cell_type": "code",
   "execution_count": 4,
   "metadata": {},
   "outputs": [],
   "source": [
    "R_vals     = np.power(10.0 * np.ones(len(R_log10)), R_log10)\n",
    "N_old_vals = np.power(10.0 * np.ones(len(N_old_log10)), N_old_log10)\n",
    "N_all_vals = np.power(10.0 * np.ones(len(N_all_log10)), N_all_log10)\n",
    "err_vals   = np.power(10.0 * np.ones(len(err_log10)), err_log10)"
   ]
  },
  {
   "cell_type": "code",
   "execution_count": 9,
   "metadata": {},
   "outputs": [],
   "source": [
    "# Cubic spline.\n",
    "spl_old = splrep(R_vals, N_old_vals)\n",
    "spl_all = splrep(R_vals, N_all_vals)\n",
    "\n",
    "tck_old = splrep(R_vals, N_old_vals, s=0)\n",
    "tck_all = splrep(R_vals, N_all_vals, s=0)\n",
    "\n",
    "R_new = np.linspace(R_vals[0], R_vals[-1], num=100)\n",
    "\n",
    "y_old = splev(R_new, tck_old, der=0)\n",
    "y_all = splev(R_new, tck_all, der=0)\n",
    "\n",
    "dy_old = splev(R_new, tck_old, der=1)\n",
    "dy_all = splev(R_new, tck_all, der=1)"
   ]
  },
  {
   "cell_type": "markdown",
   "metadata": {},
   "source": [
    "$$\n",
    "\\nu (r) = -\\frac{1}{\\pi} \\int_r^{\\infty} \\frac{d\\Sigma}{dR} \\frac{dR}{\\sqrt{R^2 - r^2}}\n",
    "$$"
   ]
  },
  {
   "cell_type": "code",
   "execution_count": 30,
   "metadata": {},
   "outputs": [],
   "source": [
    "def abel(dfdx, x):\n",
    "    \n",
    "    nx = len(x)\n",
    "    integral = np.zeros(nx)\n",
    "    \n",
    "    for i in range(nx-1):\n",
    "        \n",
    "        divisor = np.sqrt(x[i:nx]**2 - x[i]**2)\n",
    "        divisor[0] = divisor[1]\n",
    "        integrand = dfdx[i:nx] / divisor\n",
    "        \n",
    "        integral[i] = (-1.0 / np.pi) * np.trapz(integrand, x[i:nx])\n",
    "        \n",
    "    return integral"
   ]
  },
  {
   "cell_type": "code",
   "execution_count": 31,
   "metadata": {},
   "outputs": [],
   "source": [
    "abel_old = abel(dy_old, R_new)\n",
    "abel_all = abel(dy_all, R_new)"
   ]
  },
  {
   "cell_type": "code",
   "execution_count": 32,
   "metadata": {},
   "outputs": [
    {
     "data": {
      "text/plain": [
       "15.802946364742628"
      ]
     },
     "execution_count": 32,
     "metadata": {},
     "output_type": "execute_result"
    }
   ],
   "source": [
    "abel_old[0]"
   ]
  },
  {
   "cell_type": "code",
   "execution_count": 33,
   "metadata": {},
   "outputs": [
    {
     "data": {
      "image/png": "[encoded data removed]",
      "text/plain": [
       "<Figure size 432x288 with 1 Axes>"
      ]
     },
     "metadata": {
      "needs_background": "light"
     },
     "output_type": "display_data"
    }
   ],
   "source": [
    "plt.plot(R_new[0:99], abel_old[0:99])\n",
    "plt.plot(R_new[0:99], abel_all[0:99])\n",
    "plt.yscale('log')\n",
    "plt.xscale('log')\n",
    "plt.show()"
   ]
  },
  {
   "cell_type": "code",
   "execution_count": 38,
   "metadata": {},
   "outputs": [
    {
     "name": "stdout",
     "output_type": "stream",
     "text": [
      "   0.50\t15.8029\t33.1743\n",
      "  10.60\t0.8625\t0.8461\n",
      "  20.69\t0.4108\t0.3463\n",
      "  30.79\t0.2771\t0.2713\n",
      "  40.88\t0.1722\t0.1693\n",
      "  50.98\t0.1037\t0.1042\n",
      "  61.08\t0.0768\t0.0744\n",
      "  71.17\t0.0627\t0.0585\n",
      "  81.27\t0.0533\t0.0494\n",
      "  91.36\t0.0469\t0.0445\n",
      " 101.46\t0.0420\t0.0413\n",
      " 111.56\t0.0376\t0.0382\n",
      " 121.65\t0.0335\t0.0349\n",
      " 131.75\t0.0296\t0.0315\n",
      " 141.84\t0.0259\t0.0281\n",
      " 151.94\t0.0224\t0.0245\n",
      " 162.04\t0.0191\t0.0210\n",
      " 172.13\t0.0160\t0.0175\n",
      " 182.23\t0.0130\t0.0141\n",
      " 192.32\t0.0103\t0.0109\n",
      " 202.42\t0.0078\t0.0079\n",
      " 212.52\t0.0055\t0.0052\n",
      " 222.61\t0.0035\t0.0027\n",
      " 232.71\t0.0016\t0.0005\n",
      " 242.80\t-0.0000\t-0.0015\n",
      " 252.90\t-0.0015\t-0.0033\n",
      " 262.99\t-0.0029\t-0.0049\n",
      " 273.09\t-0.0041\t-0.0063\n",
      " 283.19\t-0.0051\t-0.0076\n",
      " 293.28\t-0.0061\t-0.0087\n",
      " 303.38\t-0.0069\t-0.0096\n",
      " 313.47\t-0.0075\t-0.0104\n",
      " 323.57\t-0.0081\t-0.0111\n",
      " 333.67\t-0.0086\t-0.0117\n",
      " 343.76\t-0.0090\t-0.0121\n",
      " 353.86\t-0.0093\t-0.0124\n",
      " 363.95\t-0.0095\t-0.0126\n",
      " 374.05\t-0.0097\t-0.0128\n",
      " 384.15\t-0.0097\t-0.0128\n",
      " 394.24\t-0.0097\t-0.0128\n",
      " 404.34\t-0.0096\t-0.0126\n",
      " 414.43\t-0.0095\t-0.0124\n",
      " 424.53\t-0.0093\t-0.0122\n",
      " 434.63\t-0.0091\t-0.0118\n",
      " 444.72\t-0.0088\t-0.0114\n",
      " 454.82\t-0.0084\t-0.0110\n",
      " 464.91\t-0.0080\t-0.0105\n",
      " 475.01\t-0.0076\t-0.0099\n",
      " 485.11\t-0.0071\t-0.0093\n",
      " 495.20\t-0.0066\t-0.0086\n",
      " 505.30\t-0.0061\t-0.0079\n",
      " 515.39\t-0.0055\t-0.0072\n",
      " 525.49\t-0.0049\t-0.0064\n",
      " 535.59\t-0.0043\t-0.0056\n",
      " 545.68\t-0.0036\t-0.0048\n",
      " 555.78\t-0.0029\t-0.0039\n",
      " 565.87\t-0.0022\t-0.0030\n",
      " 575.97\t-0.0015\t-0.0021\n",
      " 586.07\t-0.0008\t-0.0012\n",
      " 596.16\t-0.0000\t-0.0003\n",
      " 606.26\t0.0007\t0.0007\n",
      " 616.35\t0.0015\t0.0016\n",
      " 626.45\t0.0022\t0.0026\n",
      " 636.55\t0.0030\t0.0035\n",
      " 646.64\t0.0038\t0.0045\n",
      " 656.74\t0.0045\t0.0055\n",
      " 666.83\t0.0053\t0.0064\n",
      " 676.93\t0.0061\t0.0074\n",
      " 687.03\t0.0068\t0.0083\n",
      " 697.12\t0.0076\t0.0093\n",
      " 707.22\t0.0083\t0.0102\n",
      " 717.31\t0.0090\t0.0111\n",
      " 727.41\t0.0097\t0.0120\n",
      " 737.51\t0.0104\t0.0128\n",
      " 747.60\t0.0110\t0.0136\n",
      " 757.70\t0.0117\t0.0144\n",
      " 767.79\t0.0123\t0.0152\n",
      " 777.89\t0.0128\t0.0159\n",
      " 787.98\t0.0133\t0.0165\n",
      " 798.08\t0.0138\t0.0171\n",
      " 808.18\t0.0143\t0.0177\n",
      " 818.27\t0.0147\t0.0182\n",
      " 828.37\t0.0150\t0.0186\n",
      " 838.46\t0.0153\t0.0190\n",
      " 848.56\t0.0155\t0.0193\n",
      " 858.66\t0.0157\t0.0195\n",
      " 868.75\t0.0158\t0.0196\n",
      " 878.85\t0.0158\t0.0196\n",
      " 888.94\t0.0157\t0.0195\n",
      " 899.04\t0.0155\t0.0192\n",
      " 909.14\t0.0152\t0.0188\n",
      " 919.23\t0.0147\t0.0183\n",
      " 929.33\t0.0141\t0.0175\n",
      " 939.42\t0.0134\t0.0166\n",
      " 949.52\t0.0124\t0.0153\n",
      " 959.62\t0.0111\t0.0137\n",
      " 969.71\t0.0094\t0.0117\n",
      " 979.81\t0.0072\t0.0090\n",
      " 989.90\t0.0040\t0.0050\n"
     ]
    }
   ],
   "source": [
    "for i in range(len(R_new)-1):\n",
    "    str1 = '{0:7.2f}\\t{1:.4f}\\t{2:.4f}'.format(R_new[i], abel_old[i], abel_all[i])\n",
    "    print(str1)"
   ]
  },
  {
   "cell_type": "code",
   "execution_count": null,
   "metadata": {},
   "outputs": [],
   "source": []
  }
 ],
 "metadata": {
  "kernelspec": {
   "display_name": "Python 3",
   "language": "python",
   "name": "python3"
  },
  "language_info": {
   "codemirror_mode": {
    "name": "ipython",
    "version": 3
   },
   "file_extension": ".py",
   "mimetype": "text/x-python",
   "name": "python",
   "nbconvert_exporter": "python",
   "pygments_lexer": "ipython3",
   "version": "3.6.13"
  }
 },
 "nbformat": 4,
 "nbformat_minor": 2
}
